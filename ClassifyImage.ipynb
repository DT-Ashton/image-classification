{
 "cells": [
  {
   "cell_type": "code",
   "execution_count": 1,
   "metadata": {},
   "outputs": [],
   "source": [
    "import numpy as np\n",
    "from PIL import Image\n",
    "from sklearn.preprocessing import StandardScaler\n",
    "from sklearn.decomposition import PCA\n",
    "import joblib"
   ]
  },
  {
   "cell_type": "code",
   "execution_count": null,
   "metadata": {},
   "outputs": [],
   "source": [
    "model = joblib.load('C:\\\\Users\\\\Huynh Han Dong\\\\Documents\\\\AI crew\\\\Project AI 2\\\\ImageClassification\\\\trained_models\\\\apple_tomato_classifier_knn.pkl')\n",
    "scaler = joblib.load('C:\\\\Users\\\\Huynh Han Dong\\\\Documents\\\\AI crew\\\\Project AI 2\\\\ImageClassification\\\\trained_models\\\\scaler.pkl') \n",
    "pca = joblib.load('C:\\\\Users\\\\Huynh Han Dong\\\\Documents\\\\AI crew\\\\Project AI 2\\\\ImageClassification\\\\trained_models\\\\pca.pkl')\n",
    "img_path = 'C:\\\\Users\\\\Huynh Han Dong\\\\Documents\\\\AI crew\\\\Project AI 2\\\\ImageClassification\\\\dataset\\\\tomato_test2.jpg'"
   ]
  },
  {
   "cell_type": "code",
   "execution_count": 3,
   "metadata": {},
   "outputs": [],
   "source": [
    "def preprocess_image(img_path):\n",
    "    try:\n",
    "        img = Image.open(img_path).convert('RGB')\n",
    "        img = img.resize((150, 150))\n",
    "        img_array = np.array(img).flatten()\n",
    "        img_array = scaler.transform([img_array])\n",
    "        img_array = pca.transform(img_array)\n",
    "        return img_array\n",
    "    except Exception as e:\n",
    "        print(f\"Error loading image {img_path}: {e}\")\n",
    "        return None"
   ]
  },
  {
   "cell_type": "code",
   "execution_count": 8,
   "metadata": {},
   "outputs": [
    {
     "name": "stdout",
     "output_type": "stream",
     "text": [
      "The image is classified as a Tomato.\n"
     ]
    }
   ],
   "source": [
    "def classify_fruit(img_path, model):\n",
    "    img_array = preprocess_image(img_path)\n",
    "    if img_array is not None:\n",
    "        prediction = model.predict(img_array)\n",
    "        return prediction[0]\n",
    "    else:\n",
    "        return None\n",
    "\n",
    "fruit_class = classify_fruit(img_path, model)\n",
    "if fruit_class is not None:\n",
    "    if fruit_class == 0:\n",
    "        print(\"The image is classified as an Apple.\")\n",
    "    elif fruit_class == 1:\n",
    "        print(\"The image is classified as a Tomato.\")\n",
    "else:\n",
    "    print(\"Failed to classify the image.\")"
   ]
  }
 ],
 "metadata": {
  "kernelspec": {
   "display_name": "Python 3",
   "language": "python",
   "name": "python3"
  },
  "language_info": {
   "codemirror_mode": {
    "name": "ipython",
    "version": 3
   },
   "file_extension": ".py",
   "mimetype": "text/x-python",
   "name": "python",
   "nbconvert_exporter": "python",
   "pygments_lexer": "ipython3",
   "version": "3.10.0"
  }
 },
 "nbformat": 4,
 "nbformat_minor": 2
}
