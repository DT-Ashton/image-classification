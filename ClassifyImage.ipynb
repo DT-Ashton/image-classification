{
 "cells": [
  {
   "cell_type": "code",
   "execution_count": 1,
   "metadata": {},
   "outputs": [],
   "source": [
    "import numpy as np\n",
    "from PIL import Image\n",
    "import joblib\n",
    "from sklearn.preprocessing import StandardScaler"
   ]
  },
  {
   "cell_type": "code",
   "execution_count": 8,
   "metadata": {},
   "outputs": [
    {
     "name": "stderr",
     "output_type": "stream",
     "text": [
      "<>:1: SyntaxWarning: invalid escape sequence '\\M'\n",
      "<>:2: SyntaxWarning: invalid escape sequence '\\M'\n",
      "<>:1: SyntaxWarning: invalid escape sequence '\\M'\n",
      "<>:2: SyntaxWarning: invalid escape sequence '\\M'\n",
      "C:\\Users\\nhl08\\AppData\\Local\\Temp\\ipykernel_25548\\3460009599.py:1: SyntaxWarning: invalid escape sequence '\\M'\n",
      "  svm_model = joblib.load('C:\\\\Users\\\\nhl08\\\\OneDrive\\\\Documents\\\\AI02\\Model\\\\apple_tomato_classifier_svm.pkl')\n",
      "C:\\Users\\nhl08\\AppData\\Local\\Temp\\ipykernel_25548\\3460009599.py:2: SyntaxWarning: invalid escape sequence '\\M'\n",
      "  scaler = joblib.load('C:\\\\Users\\\\nhl08\\\\OneDrive\\\\Documents\\\\AI02\\Model\\\\scaler.pkl')\n"
     ]
    }
   ],
   "source": [
    "svm_model = joblib.load('C:\\\\Users\\\\nhl08\\\\OneDrive\\\\Documents\\\\AI02\\Model\\\\apple_tomato_classifier_svm.pkl')\n",
    "scaler = joblib.load('C:\\\\Users\\\\nhl08\\\\OneDrive\\\\Documents\\\\AI02\\Model\\\\scaler.pkl') "
   ]
  },
  {
   "cell_type": "code",
   "execution_count": 9,
   "metadata": {},
   "outputs": [],
   "source": [
    "def preprocess_image(image_path):\n",
    "    img = Image.open(image_path).convert('RGB')  \n",
    "    img = img.resize((150, 150))\n",
    "    img_array = np.array(img).flatten() \n",
    "    img_array = img_array.reshape(1, -1)\n",
    "    img_array = scaler.transform(img_array) \n",
    "    return img_array"
   ]
  },
  {
   "cell_type": "code",
   "execution_count": 10,
   "metadata": {},
   "outputs": [],
   "source": [
    "def classify_image(image_path):\n",
    "    categories = ['apples', 'tomatoes']\n",
    "    img_array = preprocess_image(image_path)\n",
    "    prediction = svm_model.predict(img_array)\n",
    "    return categories[prediction[0]]"
   ]
  },
  {
   "cell_type": "code",
   "execution_count": 11,
   "metadata": {},
   "outputs": [
    {
     "name": "stdout",
     "output_type": "stream",
     "text": [
      "The image is classified as: tomatoes\n"
     ]
    }
   ],
   "source": [
    "image_path = 'path to the test_image' # Add the path of testing image\n",
    "result = classify_image(image_path)\n",
    "print(f'The image is classified as: {result}')"
   ]
  }
 ],
 "metadata": {
  "kernelspec": {
   "display_name": ".mvenv",
   "language": "python",
   "name": "python3"
  },
  "language_info": {
   "codemirror_mode": {
    "name": "ipython",
    "version": 3
   },
   "file_extension": ".py",
   "mimetype": "text/x-python",
   "name": "python",
   "nbconvert_exporter": "python",
   "pygments_lexer": "ipython3",
   "version": "3.12.4"
  }
 },
 "nbformat": 4,
 "nbformat_minor": 2
}
